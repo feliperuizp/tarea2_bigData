{
 "cells": [
  {
   "cell_type": "code",
   "execution_count": 1,
   "metadata": {},
   "outputs": [
    {
     "name": "stdout",
     "output_type": "stream",
     "text": [
      "[nltk_data] Downloading package stopwords to\n",
      "[nltk_data]     /Users/feliperojos/nltk_data...\n",
      "[nltk_data]   Package stopwords is already up-to-date!\n",
      "16782\n",
      "('m', 1)\n",
      "('throne', 1)\n",
      "('octubr', 1)\n",
      "('jame', 1)\n",
      "('sinclair', 1)\n",
      "('dijo', 1608)\n",
      "('ser', 1231)\n",
      "('hombr', 1116)\n",
      "('si', 1108)\n",
      "('lord', 855)\n",
      "('jon', 838)\n",
      "('rey', 823)\n",
      "('mano', 801)\n",
      "('ned', 773)\n",
      "('señor', 703)\n"
     ]
    },
    {
     "data": {
      "text/plain": [
       "(1499726, 1635710)"
      ]
     },
     "execution_count": 1,
     "metadata": {},
     "output_type": "execute_result"
    }
   ],
   "source": [
    "import os\n",
    "import nltk\n",
    "import re\n",
    "import operator\n",
    "import gensim \n",
    "import numpy as np\n",
    "from stemming.porter2 import stem\n",
    "from nltk.corpus import stopwords\n",
    "#from sklearn.model_selection import KFold\n",
    "from sklearn.svm import LinearSVC\n",
    "from sklearn.metrics import confusion_matrix\n",
    "from sklearn import metrics\n",
    "from sklearn.cluster import KMeans\n",
    "from scipy.spatial.distance import cdist\n",
    "import matplotlib.pyplot as plt\n",
    "\n",
    "\n",
    "\n",
    "\n",
    "dictionary = {}\n",
    "nltk.download('stopwords')\n",
    "stopWords = set(stopwords.words('spanish'))\n",
    "stopW_without_punctuation = []\n",
    "\n",
    "documents = list()\n",
    "\n",
    "for i in stopWords:\n",
    "    stopW_without_punctuation.append(re.sub(r'[^\\w\\s]','',i))\n",
    "\n",
    "\n",
    "with open('../../../Downloads/01got.txt','r') as f:\n",
    "    for line in f:\n",
    "        #delete Punctuation\n",
    "        line = re.sub(r'[^\\w\\s]','',line)\n",
    "        tempLine = \"\"\n",
    "        for word in line.split():\n",
    "            word = word.lower()\n",
    "            #Stop Words\n",
    "            if word not in stopW_without_punctuation:\n",
    "                temp_w = stem(word)\n",
    "                tempLine += temp_w + \" \"\n",
    "                if temp_w in dictionary:\n",
    "                    dictionary[temp_w]=dictionary[temp_w] + 1\n",
    "                else:\n",
    "                    dictionary[temp_w]=1\n",
    "                \n",
    "        tempLine = tempLine.strip()\n",
    "        documents.append(tempLine.split())\n",
    "    \n",
    "\n",
    "print(len(dictionary))\n",
    "\n",
    "sorted_dictionary = sorted(dictionary.items(), key=operator.itemgetter(1))\n",
    "\n",
    "print(sorted_dictionary[0])\n",
    "print(sorted_dictionary[1])\n",
    "print(sorted_dictionary[2])\n",
    "print(sorted_dictionary[3])\n",
    "print(sorted_dictionary[4])\n",
    "\n",
    "print(sorted_dictionary[-1])\n",
    "print(sorted_dictionary[-2])\n",
    "print(sorted_dictionary[-3])\n",
    "print(sorted_dictionary[-4])\n",
    "print(sorted_dictionary[-5])\n",
    "print(sorted_dictionary[-6])\n",
    "print(sorted_dictionary[-7])\n",
    "print(sorted_dictionary[-8])\n",
    "print(sorted_dictionary[-9])\n",
    "print(sorted_dictionary[-10])\n",
    "\n",
    "\n",
    "\n",
    "model = gensim.models.Word2Vec (documents, size=100, window=10, min_count=2, workers=10)\n",
    "model.train(documents,total_examples=len(documents),epochs=10)\n",
    "\n",
    "\n"
   ]
  },
  {
   "cell_type": "code",
   "execution_count": 4,
   "metadata": {},
   "outputs": [
    {
     "name": "stdout",
     "output_type": "stream",
     "text": [
      "Sansa sim:  [('arya', 0.8958324790000916), ('apresen', 0.8028017282485962), ('dama', 0.7885042428970337), ('decepcionado', 0.7876068353652954), ('legítima', 0.7852732539176941), ('septa', 0.7845212817192078), ('decepciona', 0.7763383388519287), ('liláceo', 0.7750486135482788), ('niña', 0.770296037197113), ('jeyn', 0.7685966491699219)]\n",
      "\n",
      "Arya sim:  [('sansa', 0.8958324790000916), ('agarrándola', 0.8287062048912048), ('hier', 0.8060789704322815), ('loba', 0.8006978034973145), ('llorar', 0.8002867698669434), ('desenvainada', 0.7941508293151855), ('sobresaltada', 0.7811453342437744), ('avergonzada', 0.779944896697998), ('boquiabierto', 0.7753124833106995), ('abrazó', 0.7699487805366516)]\n",
      "\n",
      "Jon sim:  [('sam', 0.8235830664634705), ('catelyn', 0.8203137516975403), ('bran', 0.8164108991622925), ('controlado', 0.7955292463302612), ('deserción', 0.7821649312973022), ('pyp', 0.7800255417823792), ('robb', 0.7702438831329346), ('chico', 0.7699379920959473), ('indiferent', 0.767811119556427), ('ver', 0.7668758630752563)]\n",
      "\n",
      "Stark sim:  [('voluntariosa', 0.8785983324050903), ('recuperars', 0.8575819730758667), ('ladi', 0.8528976440429688), ('arryn', 0.8495524525642395), ('benjen', 0.8439449071884155), ('remontan', 0.8259362578392029), ('eddard', 0.817467451095581), ('sentencio', 0.8169243335723877), ('déjate', 0.8164999485015869), ('ben', 0.8031583428382874)]\n",
      "\n",
      "Ned sim:  [('robert', 0.8005140423774719), ('quejado', 0.7895376086235046), ('catelyn', 0.7838209271430969), ('meñiqu', 0.7656552791595459), ('joffrey', 0.7589917182922363), ('amái', 0.7567585110664368), ('cersei', 0.7420740127563477), ('alzando', 0.7333337068557739), ('callao', 0.7304848432540894), ('asustando', 0.7287869453430176)]\n",
      "\n",
      "Targaryen sim:  [('aegon', 0.9740450382232666), ('u', 0.949885904788971), ('rhaegar', 0.9474411010742188), ('alianza', 0.9384192228317261), ('conquistador', 0.938144862651825), ('legítimo', 0.937070906162262), ('ori', 0.9331921935081482), ('aeri', 0.9328948259353638), ('heredera', 0.9312787652015686), ('dorn', 0.9271572232246399)]\n",
      "\n",
      "Lannister sim:  [('jaim', 0.8313786387443542), ('desenvainando', 0.7906525135040283), ('hermano', 0.7900848388671875), ('ventaja', 0.7761961817741394), ('mató', 0.759951651096344), ('considerará', 0.7576467394828796), ('juramentado', 0.7575044631958008), ('pace', 0.7377591729164124), ('gnomo', 0.7314315438270569), ('insolencia', 0.7301006317138672)]\n",
      "\n",
      "Tyrion sim:  [('catelyn', 0.7196813225746155), ('meterno', 0.7092990875244141), ('cortando', 0.7036154270172119), ('inclinando', 0.7007479667663574), ('contárselo', 0.6802015900611877), ('echándos', 0.6801294684410095), ('cerrarl', 0.6793860197067261), ('carcajada', 0.6791261434555054), ('nuevo', 0.6783560514450073), ('bronn', 0.6778884530067444)]\n"
     ]
    }
   ],
   "source": [
    "print(\"Sansa sim: \",model.wv.most_similar('sansa'))\n",
    "print(\"\")\n",
    "print(\"Arya sim: \",model.wv.most_similar('arya'))\n",
    "print(\"\")\n",
    "print(\"Jon sim: \",model.wv.most_similar('jon'))\n",
    "print(\"\")\n",
    "print(\"Stark sim: \",model.wv.most_similar('stark'))\n",
    "print(\"\")\n",
    "print(\"Ned sim: \",model.wv.most_similar('ned'))\n",
    "print(\"\")\n",
    "print(\"Targaryen sim: \",model.wv.most_similar('targaryen'))\n",
    "print(\"\")\n",
    "print(\"Lannister sim: \",model.wv.most_similar('lannist'))\n",
    "print(\"\")\n",
    "print(\"Tyrion sim: \",model.wv.most_similar('tyrion'))\n"
   ]
  },
  {
   "cell_type": "code",
   "execution_count": 5,
   "metadata": {},
   "outputs": [
    {
     "name": "stderr",
     "output_type": "stream",
     "text": [
      "/usr/local/Cellar/python3/3.6.3/Frameworks/Python.framework/Versions/3.6/lib/python3.6/site-packages/ipykernel_launcher.py:2: DeprecationWarning: Call to deprecated `__getitem__` (Method will be removed in 4.0.0, use self.wv.__getitem__() instead).\n",
      "  \n"
     ]
    },
    {
     "data": {
      "image/png": "[encoded data removed]",
      "text/plain": [
       "<Figure size 432x288 with 1 Axes>"
      ]
     },
     "metadata": {},
     "output_type": "display_data"
    }
   ],
   "source": [
    "distortions = []\n",
    "X = model[model.wv.vocab]\n",
    "K = range(3,10)\n",
    "for k in K:\n",
    "    kmeanModel = KMeans(n_clusters=k).fit(X)\n",
    "    kmeanModel.fit(X)\n",
    "    distortions.append(sum(np.min(cdist(X, kmeanModel.cluster_centers_, 'euclidean'), axis=1)) / X.shape[0])\n",
    "    \n",
    "plt.plot(K, distortions, 'bx-')\n",
    "plt.xlabel('k')\n",
    "plt.ylabel('Distortion')\n",
    "plt.title('The Elbow Method showing the optimal k')\n",
    "plt.show()    \n",
    "    "
   ]
  },
  {
   "cell_type": "code",
   "execution_count": 6,
   "metadata": {},
   "outputs": [
    {
     "data": {
      "text/plain": [
       "KMeans(algorithm='auto', copy_x=True, init='k-means++', max_iter=300,\n",
       "    n_clusters=5, n_init=10, n_jobs=1, precompute_distances='auto',\n",
       "    random_state=None, tol=0.0001, verbose=0)"
      ]
     },
     "execution_count": 6,
     "metadata": {},
     "output_type": "execute_result"
    }
   ],
   "source": [
    "#Elbow menciona que se debe escoger el k en el cual cambia significativamente el aprendizaje, por lo que escojo k=5\n",
    "kmeanModel = KMeans(n_clusters=5).fit(X)\n",
    "kmeanModel.fit(X)"
   ]
  },
  {
   "cell_type": "code",
   "execution_count": 8,
   "metadata": {},
   "outputs": [
    {
     "data": {
      "text/plain": [
       "array([1, 0, 2, ..., 1, 1, 0], dtype=int32)"
      ]
     },
     "execution_count": 8,
     "metadata": {},
     "output_type": "execute_result"
    }
   ],
   "source": [
    "kmeanModel.labels_"
   ]
  },
  {
   "cell_type": "code",
   "execution_count": 13,
   "metadata": {},
   "outputs": [
    {
     "name": "stdout",
     "output_type": "stream",
     "text": [
      "2118\n",
      "5654\n",
      "744\n",
      "169\n",
      "556\n"
     ]
    }
   ],
   "source": [
    "print(kmeanModel.labels_.tolist().count(0))\n",
    "print(kmeanModel.labels_.tolist().count(1))\n",
    "print(kmeanModel.labels_.tolist().count(2))\n",
    "print(kmeanModel.labels_.tolist().count(3))\n",
    "print(kmeanModel.labels_.tolist().count(4))"
   ]
  },
  {
   "cell_type": "code",
   "execution_count": 25,
   "metadata": {},
   "outputs": [],
   "source": [
    "#escojemos el cluster 0 1 y 2\n",
    "c0 = []\n",
    "c1 = []\n",
    "c2 = []\n",
    "dic = list(model.wv.vocab.keys())\n",
    "for i in range(len(kmeanModel.labels_)):\n",
    "    if kmeanModel.labels_[i]==0:\n",
    "        c0.append(dic[i])\n",
    "    if kmeanModel.labels_[i]==1:\n",
    "        c1.append(dic[i])\n",
    "    if kmeanModel.labels_[i]==2:\n",
    "        c2.append(dic[i])\n",
    "        "
   ]
  },
  {
   "cell_type": "code",
   "execution_count": 41,
   "metadata": {},
   "outputs": [
    {
     "name": "stdout",
     "output_type": "stream",
     "text": [
      "Cluster 0, top 10 palabras más comunes con sus frecuencias:  [['dragón', 151], ['daeneri', 53], ['invierno', 51], ['cien', 43], ['vivo', 41], ['diez', 37], ['sept', 37], ['cuidado', 33], ['suert', 32], ['gare', 32]]\n",
      "\n",
      "Cluster 1, top 10 palabras más comunes con sus frecuencias:  [['tenso', 12], ['equivocado', 11], ['arrancarl', 11], ['compartía', 10], ['ondeando', 10], ['pálida', 10], ['meditar', 10], ['afecto', 10], ['guapo', 10], ['ausencia', 10]]\n",
      "\n",
      "Cluster 2, top 10 palabras más comunes con sus frecuencias:  [['tyrion', 597], ['mientra', 534], ['bran', 513], ['vez', 453], ['dani', 444], ['arya', 439], ['noch', 400], ['dos', 391], ['dio', 307], ['hizo', 306]]\n"
     ]
    }
   ],
   "source": [
    "c0_freq = []\n",
    "c1_freq = []\n",
    "c2_freq = []\n",
    "for c in c0:\n",
    "    c0_freq.append([c,dictionary[c]])\n",
    "for c in c1:\n",
    "    c1_freq.append([c,dictionary[c]])\n",
    "for c in c2:\n",
    "    c2_freq.append([c,dictionary[c]])\n",
    "\n",
    "print (\"Cluster 0, top 10 palabras más comunes con sus frecuencias: \",sorted(c0_freq, key = lambda x : x[1], reverse = True)[:10])\n",
    "print(\"\")\n",
    "print (\"Cluster 1, top 10 palabras más comunes con sus frecuencias: \",sorted(c1_freq, key = lambda x : x[1], reverse = True)[:10])\n",
    "print(\"\")\n",
    "print (\"Cluster 2, top 10 palabras más comunes con sus frecuencias: \",sorted(c2_freq, key = lambda x : x[1], reverse = True)[:10])\n"
   ]
  },
  {
   "cell_type": "code",
   "execution_count": null,
   "metadata": {},
   "outputs": [],
   "source": []
  }
 ],
 "metadata": {
  "kernelspec": {
   "display_name": "Python 3",
   "language": "python",
   "name": "python3"
  },
  "language_info": {
   "codemirror_mode": {
    "name": "ipython",
    "version": 3
   },
   "file_extension": ".py",
   "mimetype": "text/x-python",
   "name": "python",
   "nbconvert_exporter": "python",
   "pygments_lexer": "ipython3",
   "version": "3.6.5"
  }
 },
 "nbformat": 4,
 "nbformat_minor": 2
}
