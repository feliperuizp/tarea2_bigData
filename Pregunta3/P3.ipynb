{
 "cells": [
  {
   "cell_type": "code",
   "execution_count": 1,
   "metadata": {},
   "outputs": [
    {
     "name": "stdout",
     "output_type": "stream",
     "text": [
      "[nltk_data] Downloading package stopwords to\n",
      "[nltk_data]     /Users/feliperojos/nltk_data...\n",
      "[nltk_data]   Package stopwords is already up-to-date!\n",
      "16782\n",
      "('m', 1)\n",
      "('throne', 1)\n",
      "('octubr', 1)\n",
      "('jame', 1)\n",
      "('sinclair', 1)\n",
      "('dijo', 1608)\n",
      "('ser', 1231)\n",
      "('hombr', 1116)\n",
      "('si', 1108)\n",
      "('lord', 855)\n",
      "('jon', 838)\n",
      "('rey', 823)\n",
      "('mano', 801)\n",
      "('ned', 773)\n",
      "('señor', 703)\n",
      "Tiempo de entrenamiento:  1.5725791454315186\n"
     ]
    }
   ],
   "source": [
    "import os\n",
    "import nltk\n",
    "import re\n",
    "import operator\n",
    "import gensim \n",
    "import numpy as np\n",
    "from stemming.porter2 import stem\n",
    "from nltk.corpus import stopwords\n",
    "#from sklearn.model_selection import KFold\n",
    "from sklearn.svm import LinearSVC\n",
    "from sklearn.metrics import confusion_matrix\n",
    "from sklearn import metrics\n",
    "from sklearn.cluster import KMeans\n",
    "from scipy.spatial.distance import cdist\n",
    "import matplotlib.pyplot as plt\n",
    "import time \n",
    "\n",
    "\n",
    "\n",
    "dictionary = {}\n",
    "nltk.download('stopwords')\n",
    "stopWords = set(stopwords.words('spanish'))\n",
    "stopW_without_punctuation = []\n",
    "\n",
    "documents = list()\n",
    "\n",
    "for i in stopWords:\n",
    "    stopW_without_punctuation.append(re.sub(r'[^\\w\\s]','',i))\n",
    "\n",
    "\n",
    "with open('../../../Downloads/01got.txt','r') as f:\n",
    "    for line in f:\n",
    "        #delete Punctuation\n",
    "        line = re.sub(r'[^\\w\\s]','',line)\n",
    "        tempLine = \"\"\n",
    "        for word in line.split():\n",
    "            word = word.lower()\n",
    "            #Stop Words\n",
    "            if word not in stopW_without_punctuation:\n",
    "                temp_w = stem(word)\n",
    "                tempLine += temp_w + \" \"\n",
    "                if temp_w in dictionary:\n",
    "                    dictionary[temp_w]=dictionary[temp_w] + 1\n",
    "                else:\n",
    "                    dictionary[temp_w]=1\n",
    "                \n",
    "        tempLine = tempLine.strip()\n",
    "        documents.append(tempLine.split())\n",
    "    \n",
    "\n",
    "print(len(dictionary))\n",
    "\n",
    "sorted_dictionary = sorted(dictionary.items(), key=operator.itemgetter(1))\n",
    "\n",
    "print(sorted_dictionary[0])\n",
    "print(sorted_dictionary[1])\n",
    "print(sorted_dictionary[2])\n",
    "print(sorted_dictionary[3])\n",
    "print(sorted_dictionary[4])\n",
    "\n",
    "print(sorted_dictionary[-1])\n",
    "print(sorted_dictionary[-2])\n",
    "print(sorted_dictionary[-3])\n",
    "print(sorted_dictionary[-4])\n",
    "print(sorted_dictionary[-5])\n",
    "print(sorted_dictionary[-6])\n",
    "print(sorted_dictionary[-7])\n",
    "print(sorted_dictionary[-8])\n",
    "print(sorted_dictionary[-9])\n",
    "print(sorted_dictionary[-10])\n",
    "\n",
    "\n",
    "t = time.time()\n",
    "model = gensim.models.Word2Vec (documents, size=100, window=10, min_count=2, workers=10)\n",
    "model.train(documents,total_examples=len(documents),epochs=10)\n",
    "t2 = time.time()\n",
    "print(\"Tiempo de entrenamiento: \", (t2 - t))\n",
    "\n"
   ]
  },
  {
   "cell_type": "code",
   "execution_count": 2,
   "metadata": {},
   "outputs": [
    {
     "name": "stdout",
     "output_type": "stream",
     "text": [
      "Sansa sim:  [('arya', 0.9089903831481934), ('decepciona', 0.821498453617096), ('liláceo', 0.8086718320846558), ('dama', 0.800781786441803), ('mordan', 0.794775664806366), ('soñast', 0.7854097485542297), ('acompañando', 0.7653645277023315), ('paseó', 0.7625895738601685), ('legítima', 0.7607917785644531), ('septa', 0.7587180137634277)]\n",
      "\n",
      "Arya sim:  [('sansa', 0.9089905023574829), ('llorar', 0.8085020780563354), ('sobresaltada', 0.7963324189186096), ('loba', 0.7899045944213867), ('hier', 0.7845968008041382), ('dama', 0.7837234735488892), ('avergonzada', 0.7826290130615234), ('boquiabierta', 0.7776505351066589), ('boquiabierto', 0.7752451300621033), ('entrecortada', 0.7745764851570129)]\n",
      "\n",
      "Jon sim:  [('catelyn', 0.8442196846008301), ('chico', 0.8186751008033752), ('bran', 0.8016278743743896), ('sam', 0.8001469969749451), ('partí', 0.7918548583984375), ('robb', 0.7882533073425293), ('deserción', 0.7464160919189453), ('sonrisa', 0.7454900741577148), ('pyp', 0.740380585193634), ('clavando', 0.7379851937294006)]\n",
      "\n",
      "Stark sim:  [('remontan', 0.8794676661491394), ('ladi', 0.8752254843711853), ('voluntariosa', 0.8587785959243774), ('pelar', 0.8147926330566406), ('tulli', 0.8137898445129395), ('benjen', 0.8074598908424377), ('arryn', 0.8007456064224243), ('lysa', 0.8005577325820923), ('ashara', 0.7981066107749939), ('recuperars', 0.7878052592277527)]\n",
      "\n",
      "Ned sim:  [('joffrey', 0.8286762833595276), ('meñiqu', 0.8230651617050171), ('cersei', 0.7824473977088928), ('exenta', 0.7789955139160156), ('robert', 0.7735979557037354), ('inclinando', 0.7665606141090393), ('quejado', 0.7642755508422852), ('fruncido', 0.7628276944160461), ('joff', 0.7614621520042419), ('acompañando', 0.7599129676818848)]\n",
      "\n",
      "Targaryen sim:  [('aegon', 0.9806841611862183), ('ori', 0.9668578505516052), ('conquistador', 0.9617517590522766), ('rhaegar', 0.9612633585929871), ('conquistado', 0.9605289697647095), ('aeri', 0.9520219564437866), ('dorn', 0.9489178657531738), ('alianza', 0.9429525136947632), ('u', 0.9373108148574829), ('corona', 0.9344648718833923)]\n",
      "\n",
      "Lannister sim:  [('abism', 0.8227126002311707), ('jaim', 0.7731848955154419), ('hermano', 0.7717587351799011), ('considerará', 0.7697587013244629), ('escriba', 0.7456368207931519), ('marchaba', 0.7370457649230957), ('ventaja', 0.7346108555793762), ('portavoz', 0.7309443354606628), ('gnomo', 0.7308033108711243), ('bledo', 0.7282035946846008)]\n",
      "\n",
      "Tyrion sim:  [('bronn', 0.7785536050796509), ('catelyn', 0.7498005628585815), ('arrastraban', 0.7467427253723145), ('quemaban', 0.7329771518707275), ('carcajada', 0.7312660217285156), ('encogiéndos', 0.7238398194313049), ('necesitarían', 0.7105795741081238), ('reír', 0.7095855474472046), ('lanzándol', 0.7019070982933044), ('teméi', 0.6979292631149292)]\n"
     ]
    }
   ],
   "source": [
    "print(\"Sansa sim: \",model.wv.most_similar('sansa'))\n",
    "print(\"\")\n",
    "print(\"Arya sim: \",model.wv.most_similar('arya'))\n",
    "print(\"\")\n",
    "print(\"Jon sim: \",model.wv.most_similar('jon'))\n",
    "print(\"\")\n",
    "print(\"Stark sim: \",model.wv.most_similar('stark'))\n",
    "print(\"\")\n",
    "print(\"Ned sim: \",model.wv.most_similar('ned'))\n",
    "print(\"\")\n",
    "print(\"Targaryen sim: \",model.wv.most_similar('targaryen'))\n",
    "print(\"\")\n",
    "print(\"Lannister sim: \",model.wv.most_similar('lannist'))\n",
    "print(\"\")\n",
    "print(\"Tyrion sim: \",model.wv.most_similar('tyrion'))\n"
   ]
  },
  {
   "cell_type": "code",
   "execution_count": 3,
   "metadata": {},
   "outputs": [
    {
     "name": "stderr",
     "output_type": "stream",
     "text": [
      "/usr/local/Cellar/python3/3.6.3/Frameworks/Python.framework/Versions/3.6/lib/python3.6/site-packages/ipykernel_launcher.py:2: DeprecationWarning: Call to deprecated `__getitem__` (Method will be removed in 4.0.0, use self.wv.__getitem__() instead).\n",
      "  \n"
     ]
    },
    {
     "data": {
      "image/png": "[encoded data removed]",
      "text/plain": [
       "<Figure size 432x288 with 1 Axes>"
      ]
     },
     "metadata": {},
     "output_type": "display_data"
    }
   ],
   "source": [
    "distortions = []\n",
    "X = model[model.wv.vocab]\n",
    "K = range(3,10)\n",
    "for k in K:\n",
    "    kmeanModel = KMeans(n_clusters=k).fit(X)\n",
    "    kmeanModel.fit(X)\n",
    "    distortions.append(sum(np.min(cdist(X, kmeanModel.cluster_centers_, 'euclidean'), axis=1)) / X.shape[0])\n",
    "    \n",
    "plt.plot(K, distortions, 'bx-')\n",
    "plt.xlabel('k')\n",
    "plt.ylabel('Distortion')\n",
    "plt.title('The Elbow Method showing the optimal k')\n",
    "plt.show()    \n",
    "    "
   ]
  },
  {
   "cell_type": "code",
   "execution_count": 4,
   "metadata": {},
   "outputs": [
    {
     "data": {
      "text/plain": [
       "KMeans(algorithm='auto', copy_x=True, init='k-means++', max_iter=300,\n",
       "    n_clusters=5, n_init=10, n_jobs=1, precompute_distances='auto',\n",
       "    random_state=None, tol=0.0001, verbose=0)"
      ]
     },
     "execution_count": 4,
     "metadata": {},
     "output_type": "execute_result"
    }
   ],
   "source": [
    "#Elbow menciona que se debe escoger el k en el cual cambia significativamente el aprendizaje, por lo que escojo k=5\n",
    "kmeanModel = KMeans(n_clusters=5).fit(X)\n",
    "kmeanModel.fit(X)"
   ]
  },
  {
   "cell_type": "code",
   "execution_count": 5,
   "metadata": {},
   "outputs": [
    {
     "data": {
      "text/plain": [
       "array([0, 0, 1, ..., 0, 0, 1], dtype=int32)"
      ]
     },
     "execution_count": 5,
     "metadata": {},
     "output_type": "execute_result"
    }
   ],
   "source": [
    "kmeanModel.labels_"
   ]
  },
  {
   "cell_type": "code",
   "execution_count": 6,
   "metadata": {
    "scrolled": true
   },
   "outputs": [
    {
     "name": "stdout",
     "output_type": "stream",
     "text": [
      "5872\n",
      "2131\n",
      "599\n",
      "128\n",
      "511\n"
     ]
    }
   ],
   "source": [
    "print(kmeanModel.labels_.tolist().count(0))\n",
    "print(kmeanModel.labels_.tolist().count(1))\n",
    "print(kmeanModel.labels_.tolist().count(2))\n",
    "print(kmeanModel.labels_.tolist().count(3))\n",
    "print(kmeanModel.labels_.tolist().count(4))"
   ]
  },
  {
   "cell_type": "code",
   "execution_count": 7,
   "metadata": {},
   "outputs": [],
   "source": [
    "#escojemos el cluster 0 1 y 2\n",
    "c0 = []\n",
    "c1 = []\n",
    "c2 = []\n",
    "dic = list(model.wv.vocab.keys())\n",
    "for i in range(len(kmeanModel.labels_)):\n",
    "    if kmeanModel.labels_[i]==0:\n",
    "        c0.append(dic[i])\n",
    "    if kmeanModel.labels_[i]==1:\n",
    "        c1.append(dic[i])\n",
    "    if kmeanModel.labels_[i]==2:\n",
    "        c2.append(dic[i])\n",
    "        "
   ]
  },
  {
   "cell_type": "code",
   "execution_count": 8,
   "metadata": {},
   "outputs": [
    {
     "name": "stdout",
     "output_type": "stream",
     "text": [
      "Cluster 0, top 10 palabras más comunes con sus frecuencias:  [['agradezco', 13], ['colemon', 13], ['pausa', 12], ['conquistador', 12], ['equivocado', 11], ['arrancarl', 11], ['imaginado', 11], ['reunido', 11], ['othor', 11], ['dedicado', 10]]\n",
      "\n",
      "Cluster 1, top 10 palabras más comunes con sus frecuencias:  [['tan', 578], ['dos', 391], ['gran', 256], ['tres', 198], ['vino', 175], ['castillo', 164], ['dragón', 151], ['último', 131], ['viseri', 122], ['part', 121]]\n",
      "\n",
      "Cluster 2, top 10 palabras más comunes con sus frecuencias:  [['mano', 801], ['tyrion', 597], ['hacia', 575], ['espada', 559], ['mientra', 534], ['bran', 513], ['caballo', 481], ['vez', 453], ['dani', 444], ['arya', 439]]\n"
     ]
    }
   ],
   "source": [
    "c0_freq = []\n",
    "c1_freq = []\n",
    "c2_freq = []\n",
    "for c in c0:\n",
    "    c0_freq.append([c,dictionary[c]])\n",
    "for c in c1:\n",
    "    c1_freq.append([c,dictionary[c]])\n",
    "for c in c2:\n",
    "    c2_freq.append([c,dictionary[c]])\n",
    "\n",
    "print (\"Cluster 0, top 10 palabras más comunes con sus frecuencias: \",sorted(c0_freq, key = lambda x : x[1], reverse = True)[:10])\n",
    "print(\"\")\n",
    "print (\"Cluster 1, top 10 palabras más comunes con sus frecuencias: \",sorted(c1_freq, key = lambda x : x[1], reverse = True)[:10])\n",
    "print(\"\")\n",
    "print (\"Cluster 2, top 10 palabras más comunes con sus frecuencias: \",sorted(c2_freq, key = lambda x : x[1], reverse = True)[:10])\n"
   ]
  },
  {
   "cell_type": "code",
   "execution_count": 9,
   "metadata": {},
   "outputs": [
    {
     "name": "stdout",
     "output_type": "stream",
     "text": [
      "Dispersion cluster 0:  0.7725061042655149\n",
      "Dispersion cluster 1:  0.8215536927288243\n",
      "Dispersion cluster 2:  1.1120688629206883\n"
     ]
    }
   ],
   "source": [
    "#Veamos la dispersion en cluster\n",
    "dis = np.min(cdist(X, kmeanModel.cluster_centers_, 'euclidean'), axis=1)\n",
    "print('Dispersion cluster 0: ',dis[0])\n",
    "print('Dispersion cluster 1: ',dis[1])\n",
    "print('Dispersion cluster 2: ',dis[2])"
   ]
  },
  {
   "cell_type": "code",
   "execution_count": 10,
   "metadata": {},
   "outputs": [
    {
     "name": "stdout",
     "output_type": "stream",
     "text": [
      "Freq promedio cluster 0:  3.317608991825613\n",
      "Freq promedio cluster 1:  14.129516658845612\n",
      "Freq promedio cluster 2:  61.96994991652755\n"
     ]
    }
   ],
   "source": [
    "#Freq promedio\n",
    "m0 = 0\n",
    "m1 = 0\n",
    "m2 = 0\n",
    "for c in c0:\n",
    "    m0+=dictionary[c]\n",
    "for c in c1:\n",
    "    m1+=dictionary[c]\n",
    "for c in c2:\n",
    "    m2+=dictionary[c]\n",
    "m0=m0/len(c0)\n",
    "m1=m1/len(c1)\n",
    "m2=m2/len(c2)\n",
    "print('Freq promedio cluster 0: ',m0)\n",
    "print('Freq promedio cluster 1: ',m1)\n",
    "print('Freq promedio cluster 2: ',m2)"
   ]
  },
  {
   "cell_type": "code",
   "execution_count": null,
   "metadata": {},
   "outputs": [],
   "source": []
  }
 ],
 "metadata": {
  "kernelspec": {
   "display_name": "Python 3",
   "language": "python",
   "name": "python3"
  },
  "language_info": {
   "codemirror_mode": {
    "name": "ipython",
    "version": 3
   },
   "file_extension": ".py",
   "mimetype": "text/x-python",
   "name": "python",
   "nbconvert_exporter": "python",
   "pygments_lexer": "ipython3",
   "version": "3.6.3"
  }
 },
 "nbformat": 4,
 "nbformat_minor": 2
}
